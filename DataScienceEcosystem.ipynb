{
 "cells": [
  {
   "cell_type": "markdown",
   "id": "3a7d5d54-19f8-4e24-bb7b-43b8df04a852",
   "metadata": {},
   "source": [
    "# Data Science Tools and Ecosystem"
   ]
  },
  {
   "cell_type": "markdown",
   "id": "d8631e0d-0985-480c-be8c-8e6d08fd3390",
   "metadata": {},
   "source": [
    "In this notebook, Data Science Tools and Ecosystem are summarized."
   ]
  },
  {
   "cell_type": "markdown",
   "id": "8eb24d0b-9377-4269-a1fd-e5bff77a30be",
   "metadata": {},
   "source": [
    "**Objectives**\n",
    "* List popular languages for Data Science\n",
    "* List commonly used libraries for Data Science"
   ]
  },
  {
   "cell_type": "markdown",
   "id": "d3b0c5b7-27c8-4635-b451-2e1e732af59b",
   "metadata": {},
   "source": [
    "Some of the popular languages that Data Scientists use are:"
   ]
  },
  {
   "cell_type": "markdown",
   "id": "ad970f37-8eb5-48b7-b1ed-729d035a1a70",
   "metadata": {},
   "source": [
    "1. Python\n",
    "2. R\n",
    "3. SQL"
   ]
  },
  {
   "cell_type": "markdown",
   "id": "678829d9-f293-466e-932a-e42044887b17",
   "metadata": {},
   "source": [
    "Some of the commonly used libraries used by Data Scientists include:"
   ]
  },
  {
   "cell_type": "markdown",
   "id": "64639207-9b77-444e-a75b-16b6f7f07ff4",
   "metadata": {},
   "source": [
    "1. Pandas\n",
    "2. NumPy\n",
    "3. SciPy"
   ]
  },
  {
   "cell_type": "markdown",
   "id": "5b9f5ec7-f7b9-4544-a11e-9dc217f48b34",
   "metadata": {},
   "source": [
    "|Data Science Tools|\n",
    "|------------------|\n",
    "|ggplot2           |       \n",
    "|plotly            |             \n",
    "|Lattice           |"
   ]
  },
  {
   "cell_type": "markdown",
   "id": "6a951e9b-90a7-4f9e-8da9-dfad84d40472",
   "metadata": {},
   "source": [
    "### Below are a few examples of evaluating arithmetic expressions in Python"
   ]
  },
  {
   "cell_type": "code",
   "execution_count": 3,
   "id": "97cccbcf-31ce-4b80-b40c-d0c2557243f4",
   "metadata": {},
   "outputs": [
    {
     "data": {
      "text/plain": [
       "17"
      ]
     },
     "execution_count": 3,
     "metadata": {},
     "output_type": "execute_result"
    }
   ],
   "source": [
    "(3*4)+5  #This a simple arithmetic expression to mutiply then add integers"
   ]
  },
  {
   "cell_type": "code",
   "execution_count": 6,
   "id": "1be4cdb4-e001-4338-abf6-b67b84ee436e",
   "metadata": {},
   "outputs": [
    {
     "name": "stdout",
     "output_type": "stream",
     "text": [
      "3.3333333333333335\n"
     ]
    }
   ],
   "source": [
    "# This will convert 200 minutes to hours by diving by 60\n",
    "minutes = 200\n",
    "hours = minutes / 60\n",
    "print(hours)"
   ]
  },
  {
   "cell_type": "markdown",
   "id": "68a3fbc0-aaa5-4eff-a868-985db143082e",
   "metadata": {},
   "source": [
    "## Author\n",
    "Hsienyi Wu"
   ]
  },
  {
   "cell_type": "code",
   "execution_count": null,
   "id": "4988cd10-eaca-40cd-9b4b-965e8f77b4e8",
   "metadata": {},
   "outputs": [],
   "source": []
  }
 ],
 "metadata": {
  "kernelspec": {
   "display_name": "Python 3 (ipykernel)",
   "language": "python",
   "name": "python3"
  },
  "language_info": {
   "codemirror_mode": {
    "name": "ipython",
    "version": 3
   },
   "file_extension": ".py",
   "mimetype": "text/x-python",
   "name": "python",
   "nbconvert_exporter": "python",
   "pygments_lexer": "ipython3",
   "version": "3.12.4"
  }
 },
 "nbformat": 4,
 "nbformat_minor": 5
}
